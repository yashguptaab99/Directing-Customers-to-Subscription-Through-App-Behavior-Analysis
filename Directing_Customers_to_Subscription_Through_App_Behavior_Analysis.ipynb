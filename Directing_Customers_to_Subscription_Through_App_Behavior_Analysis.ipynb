{
  "nbformat": 4,
  "nbformat_minor": 0,
  "metadata": {
    "colab": {
      "name": "Directing-Customers-to-Subscription-Through-App-Behavior-Analysis.ipynb",
      "provenance": [],
      "authorship_tag": "ABX9TyOGeZLwtksuvXYgXAeJ+Ipb",
      "include_colab_link": true
    },
    "kernelspec": {
      "name": "python3",
      "display_name": "Python 3"
    }
  },
  "cells": [
    {
      "cell_type": "markdown",
      "metadata": {
        "id": "view-in-github",
        "colab_type": "text"
      },
      "source": [
        "<a href=\"https://colab.research.google.com/github/yashguptaab99/Directing-Customers-to-Subscription-Through-App-Behavior-Analysis/blob/master/Directing_Customers_to_Subscription_Through_App_Behavior_Analysis.ipynb\" target=\"_parent\"><img src=\"https://colab.research.google.com/assets/colab-badge.svg\" alt=\"Open In Colab\"/></a>"
      ]
    },
    {
      "cell_type": "markdown",
      "metadata": {
        "id": "qY8qGPErlvxk",
        "colab_type": "text"
      },
      "source": [
        "# Importing Libraries"
      ]
    },
    {
      "cell_type": "code",
      "metadata": {
        "id": "jh1UFci_l0lv",
        "colab_type": "code",
        "colab": {
          "base_uri": "https://localhost:8080/",
          "height": 74
        },
        "outputId": "237b3f87-2ca7-4375-d839-12e85a7ac9c2"
      },
      "source": [
        "#### Importing Libraries ####\n",
        "import pandas as pd\n",
        "from dateutil import parser\n",
        "import matplotlib.pyplot as plt\n",
        "import numpy as np\n",
        "import seaborn as sn"
      ],
      "execution_count": 1,
      "outputs": [
        {
          "output_type": "stream",
          "text": [
            "/usr/local/lib/python3.6/dist-packages/statsmodels/tools/_testing.py:19: FutureWarning: pandas.util.testing is deprecated. Use the functions in the public API at pandas.testing instead.\n",
            "  import pandas.util.testing as tm\n"
          ],
          "name": "stderr"
        }
      ]
    },
    {
      "cell_type": "code",
      "metadata": {
        "id": "941ZQ0w_mp62",
        "colab_type": "code",
        "colab": {}
      },
      "source": [
        ""
      ],
      "execution_count": null,
      "outputs": []
    },
    {
      "cell_type": "markdown",
      "metadata": {
        "id": "2l-Rksbzmq1G",
        "colab_type": "text"
      },
      "source": [
        "# Importing Dataset and Cleaning"
      ]
    },
    {
      "cell_type": "code",
      "metadata": {
        "id": "Q2GOQK6lmuqy",
        "colab_type": "code",
        "colab": {}
      },
      "source": [
        "dataset = pd.read_csv('appdata10.csv')"
      ],
      "execution_count": 2,
      "outputs": []
    },
    {
      "cell_type": "code",
      "metadata": {
        "id": "xV4D-QUjm4fR",
        "colab_type": "code",
        "colab": {
          "base_uri": "https://localhost:8080/",
          "height": 305
        },
        "outputId": "d397682c-c262-4762-e7de-c1d5ef48d1b3"
      },
      "source": [
        "dataset.head()"
      ],
      "execution_count": 3,
      "outputs": [
        {
          "output_type": "execute_result",
          "data": {
            "text/html": [
              "<div>\n",
              "<style scoped>\n",
              "    .dataframe tbody tr th:only-of-type {\n",
              "        vertical-align: middle;\n",
              "    }\n",
              "\n",
              "    .dataframe tbody tr th {\n",
              "        vertical-align: top;\n",
              "    }\n",
              "\n",
              "    .dataframe thead th {\n",
              "        text-align: right;\n",
              "    }\n",
              "</style>\n",
              "<table border=\"1\" class=\"dataframe\">\n",
              "  <thead>\n",
              "    <tr style=\"text-align: right;\">\n",
              "      <th></th>\n",
              "      <th>user</th>\n",
              "      <th>first_open</th>\n",
              "      <th>dayofweek</th>\n",
              "      <th>hour</th>\n",
              "      <th>age</th>\n",
              "      <th>screen_list</th>\n",
              "      <th>numscreens</th>\n",
              "      <th>minigame</th>\n",
              "      <th>used_premium_feature</th>\n",
              "      <th>enrolled</th>\n",
              "      <th>enrolled_date</th>\n",
              "      <th>liked</th>\n",
              "    </tr>\n",
              "  </thead>\n",
              "  <tbody>\n",
              "    <tr>\n",
              "      <th>0</th>\n",
              "      <td>235136</td>\n",
              "      <td>2012-12-27 02:14:51.273</td>\n",
              "      <td>3</td>\n",
              "      <td>02:00:00</td>\n",
              "      <td>23</td>\n",
              "      <td>idscreen,joinscreen,Cycle,product_review,ScanP...</td>\n",
              "      <td>15</td>\n",
              "      <td>0</td>\n",
              "      <td>0</td>\n",
              "      <td>0</td>\n",
              "      <td>NaN</td>\n",
              "      <td>0</td>\n",
              "    </tr>\n",
              "    <tr>\n",
              "      <th>1</th>\n",
              "      <td>333588</td>\n",
              "      <td>2012-12-02 01:16:00.905</td>\n",
              "      <td>6</td>\n",
              "      <td>01:00:00</td>\n",
              "      <td>24</td>\n",
              "      <td>joinscreen,product_review,product_review2,Scan...</td>\n",
              "      <td>13</td>\n",
              "      <td>0</td>\n",
              "      <td>0</td>\n",
              "      <td>0</td>\n",
              "      <td>NaN</td>\n",
              "      <td>0</td>\n",
              "    </tr>\n",
              "    <tr>\n",
              "      <th>2</th>\n",
              "      <td>254414</td>\n",
              "      <td>2013-03-19 19:19:09.157</td>\n",
              "      <td>1</td>\n",
              "      <td>19:00:00</td>\n",
              "      <td>23</td>\n",
              "      <td>Splash,Cycle,Loan</td>\n",
              "      <td>3</td>\n",
              "      <td>0</td>\n",
              "      <td>1</td>\n",
              "      <td>0</td>\n",
              "      <td>NaN</td>\n",
              "      <td>1</td>\n",
              "    </tr>\n",
              "    <tr>\n",
              "      <th>3</th>\n",
              "      <td>234192</td>\n",
              "      <td>2013-07-05 16:08:46.354</td>\n",
              "      <td>4</td>\n",
              "      <td>16:00:00</td>\n",
              "      <td>28</td>\n",
              "      <td>product_review,Home,product_review,Loan3,Finan...</td>\n",
              "      <td>40</td>\n",
              "      <td>0</td>\n",
              "      <td>0</td>\n",
              "      <td>1</td>\n",
              "      <td>2013-07-05 16:11:49.513</td>\n",
              "      <td>0</td>\n",
              "    </tr>\n",
              "    <tr>\n",
              "      <th>4</th>\n",
              "      <td>51549</td>\n",
              "      <td>2013-02-26 18:50:48.661</td>\n",
              "      <td>1</td>\n",
              "      <td>18:00:00</td>\n",
              "      <td>31</td>\n",
              "      <td>idscreen,joinscreen,Cycle,Credit3Container,Sca...</td>\n",
              "      <td>32</td>\n",
              "      <td>0</td>\n",
              "      <td>0</td>\n",
              "      <td>1</td>\n",
              "      <td>2013-02-26 18:56:37.841</td>\n",
              "      <td>1</td>\n",
              "    </tr>\n",
              "  </tbody>\n",
              "</table>\n",
              "</div>"
            ],
            "text/plain": [
              "     user               first_open  ...            enrolled_date liked\n",
              "0  235136  2012-12-27 02:14:51.273  ...                      NaN     0\n",
              "1  333588  2012-12-02 01:16:00.905  ...                      NaN     0\n",
              "2  254414  2013-03-19 19:19:09.157  ...                      NaN     1\n",
              "3  234192  2013-07-05 16:08:46.354  ...  2013-07-05 16:11:49.513     0\n",
              "4   51549  2013-02-26 18:50:48.661  ...  2013-02-26 18:56:37.841     1\n",
              "\n",
              "[5 rows x 12 columns]"
            ]
          },
          "metadata": {
            "tags": []
          },
          "execution_count": 3
        }
      ]
    },
    {
      "cell_type": "code",
      "metadata": {
        "id": "ttLEXQQHm6Vq",
        "colab_type": "code",
        "colab": {
          "base_uri": "https://localhost:8080/",
          "height": 288
        },
        "outputId": "8d634d20-87a2-44f7-b3d5-d77fd518de7c"
      },
      "source": [
        "dataset.describe()"
      ],
      "execution_count": 4,
      "outputs": [
        {
          "output_type": "execute_result",
          "data": {
            "text/html": [
              "<div>\n",
              "<style scoped>\n",
              "    .dataframe tbody tr th:only-of-type {\n",
              "        vertical-align: middle;\n",
              "    }\n",
              "\n",
              "    .dataframe tbody tr th {\n",
              "        vertical-align: top;\n",
              "    }\n",
              "\n",
              "    .dataframe thead th {\n",
              "        text-align: right;\n",
              "    }\n",
              "</style>\n",
              "<table border=\"1\" class=\"dataframe\">\n",
              "  <thead>\n",
              "    <tr style=\"text-align: right;\">\n",
              "      <th></th>\n",
              "      <th>user</th>\n",
              "      <th>dayofweek</th>\n",
              "      <th>age</th>\n",
              "      <th>numscreens</th>\n",
              "      <th>minigame</th>\n",
              "      <th>used_premium_feature</th>\n",
              "      <th>enrolled</th>\n",
              "      <th>liked</th>\n",
              "    </tr>\n",
              "  </thead>\n",
              "  <tbody>\n",
              "    <tr>\n",
              "      <th>count</th>\n",
              "      <td>50000.000000</td>\n",
              "      <td>50000.000000</td>\n",
              "      <td>50000.00000</td>\n",
              "      <td>50000.000000</td>\n",
              "      <td>50000.000000</td>\n",
              "      <td>50000.000000</td>\n",
              "      <td>50000.000000</td>\n",
              "      <td>50000.000000</td>\n",
              "    </tr>\n",
              "    <tr>\n",
              "      <th>mean</th>\n",
              "      <td>186889.729900</td>\n",
              "      <td>3.029860</td>\n",
              "      <td>31.72436</td>\n",
              "      <td>21.095900</td>\n",
              "      <td>0.107820</td>\n",
              "      <td>0.172020</td>\n",
              "      <td>0.621480</td>\n",
              "      <td>0.165000</td>\n",
              "    </tr>\n",
              "    <tr>\n",
              "      <th>std</th>\n",
              "      <td>107768.520361</td>\n",
              "      <td>2.031997</td>\n",
              "      <td>10.80331</td>\n",
              "      <td>15.728812</td>\n",
              "      <td>0.310156</td>\n",
              "      <td>0.377402</td>\n",
              "      <td>0.485023</td>\n",
              "      <td>0.371184</td>\n",
              "    </tr>\n",
              "    <tr>\n",
              "      <th>min</th>\n",
              "      <td>13.000000</td>\n",
              "      <td>0.000000</td>\n",
              "      <td>16.00000</td>\n",
              "      <td>1.000000</td>\n",
              "      <td>0.000000</td>\n",
              "      <td>0.000000</td>\n",
              "      <td>0.000000</td>\n",
              "      <td>0.000000</td>\n",
              "    </tr>\n",
              "    <tr>\n",
              "      <th>25%</th>\n",
              "      <td>93526.750000</td>\n",
              "      <td>1.000000</td>\n",
              "      <td>24.00000</td>\n",
              "      <td>10.000000</td>\n",
              "      <td>0.000000</td>\n",
              "      <td>0.000000</td>\n",
              "      <td>0.000000</td>\n",
              "      <td>0.000000</td>\n",
              "    </tr>\n",
              "    <tr>\n",
              "      <th>50%</th>\n",
              "      <td>187193.500000</td>\n",
              "      <td>3.000000</td>\n",
              "      <td>29.00000</td>\n",
              "      <td>18.000000</td>\n",
              "      <td>0.000000</td>\n",
              "      <td>0.000000</td>\n",
              "      <td>1.000000</td>\n",
              "      <td>0.000000</td>\n",
              "    </tr>\n",
              "    <tr>\n",
              "      <th>75%</th>\n",
              "      <td>279984.250000</td>\n",
              "      <td>5.000000</td>\n",
              "      <td>37.00000</td>\n",
              "      <td>28.000000</td>\n",
              "      <td>0.000000</td>\n",
              "      <td>0.000000</td>\n",
              "      <td>1.000000</td>\n",
              "      <td>0.000000</td>\n",
              "    </tr>\n",
              "    <tr>\n",
              "      <th>max</th>\n",
              "      <td>373662.000000</td>\n",
              "      <td>6.000000</td>\n",
              "      <td>101.00000</td>\n",
              "      <td>325.000000</td>\n",
              "      <td>1.000000</td>\n",
              "      <td>1.000000</td>\n",
              "      <td>1.000000</td>\n",
              "      <td>1.000000</td>\n",
              "    </tr>\n",
              "  </tbody>\n",
              "</table>\n",
              "</div>"
            ],
            "text/plain": [
              "                user     dayofweek  ...      enrolled         liked\n",
              "count   50000.000000  50000.000000  ...  50000.000000  50000.000000\n",
              "mean   186889.729900      3.029860  ...      0.621480      0.165000\n",
              "std    107768.520361      2.031997  ...      0.485023      0.371184\n",
              "min        13.000000      0.000000  ...      0.000000      0.000000\n",
              "25%     93526.750000      1.000000  ...      0.000000      0.000000\n",
              "50%    187193.500000      3.000000  ...      1.000000      0.000000\n",
              "75%    279984.250000      5.000000  ...      1.000000      0.000000\n",
              "max    373662.000000      6.000000  ...      1.000000      1.000000\n",
              "\n",
              "[8 rows x 8 columns]"
            ]
          },
          "metadata": {
            "tags": []
          },
          "execution_count": 4
        }
      ]
    },
    {
      "cell_type": "code",
      "metadata": {
        "id": "q6nhB2DmnUOX",
        "colab_type": "code",
        "colab": {}
      },
      "source": [
        "dataset['hour'] = dataset.hour.str.slice(1, 3).astype(int)"
      ],
      "execution_count": 12,
      "outputs": []
    },
    {
      "cell_type": "code",
      "metadata": {
        "id": "l7pbqBG3oCjF",
        "colab_type": "code",
        "colab": {
          "base_uri": "https://localhost:8080/",
          "height": 235
        },
        "outputId": "698b28bd-4d2c-4426-94d3-2028d789f8bf"
      },
      "source": [
        "dataset['hour']"
      ],
      "execution_count": 13,
      "outputs": [
        {
          "output_type": "execute_result",
          "data": {
            "text/plain": [
              "0         2\n",
              "1         1\n",
              "2        19\n",
              "3        16\n",
              "4        18\n",
              "         ..\n",
              "49995    13\n",
              "49996     0\n",
              "49997    22\n",
              "49998    12\n",
              "49999     1\n",
              "Name: hour, Length: 50000, dtype: int64"
            ]
          },
          "metadata": {
            "tags": []
          },
          "execution_count": 13
        }
      ]
    },
    {
      "cell_type": "code",
      "metadata": {
        "id": "IwM3xtFeo6Yw",
        "colab_type": "code",
        "colab": {
          "base_uri": "https://localhost:8080/",
          "height": 198
        },
        "outputId": "f1658327-def6-45aa-cf34-975c634ae0e9"
      },
      "source": [
        "dataset2 = dataset.copy().drop(columns = ['user', 'screen_list', 'enrolled_date', 'first_open', 'enrolled'])\n",
        "dataset2.head()"
      ],
      "execution_count": 14,
      "outputs": [
        {
          "output_type": "execute_result",
          "data": {
            "text/html": [
              "<div>\n",
              "<style scoped>\n",
              "    .dataframe tbody tr th:only-of-type {\n",
              "        vertical-align: middle;\n",
              "    }\n",
              "\n",
              "    .dataframe tbody tr th {\n",
              "        vertical-align: top;\n",
              "    }\n",
              "\n",
              "    .dataframe thead th {\n",
              "        text-align: right;\n",
              "    }\n",
              "</style>\n",
              "<table border=\"1\" class=\"dataframe\">\n",
              "  <thead>\n",
              "    <tr style=\"text-align: right;\">\n",
              "      <th></th>\n",
              "      <th>dayofweek</th>\n",
              "      <th>hour</th>\n",
              "      <th>age</th>\n",
              "      <th>numscreens</th>\n",
              "      <th>minigame</th>\n",
              "      <th>used_premium_feature</th>\n",
              "      <th>liked</th>\n",
              "    </tr>\n",
              "  </thead>\n",
              "  <tbody>\n",
              "    <tr>\n",
              "      <th>0</th>\n",
              "      <td>3</td>\n",
              "      <td>2</td>\n",
              "      <td>23</td>\n",
              "      <td>15</td>\n",
              "      <td>0</td>\n",
              "      <td>0</td>\n",
              "      <td>0</td>\n",
              "    </tr>\n",
              "    <tr>\n",
              "      <th>1</th>\n",
              "      <td>6</td>\n",
              "      <td>1</td>\n",
              "      <td>24</td>\n",
              "      <td>13</td>\n",
              "      <td>0</td>\n",
              "      <td>0</td>\n",
              "      <td>0</td>\n",
              "    </tr>\n",
              "    <tr>\n",
              "      <th>2</th>\n",
              "      <td>1</td>\n",
              "      <td>19</td>\n",
              "      <td>23</td>\n",
              "      <td>3</td>\n",
              "      <td>0</td>\n",
              "      <td>1</td>\n",
              "      <td>1</td>\n",
              "    </tr>\n",
              "    <tr>\n",
              "      <th>3</th>\n",
              "      <td>4</td>\n",
              "      <td>16</td>\n",
              "      <td>28</td>\n",
              "      <td>40</td>\n",
              "      <td>0</td>\n",
              "      <td>0</td>\n",
              "      <td>0</td>\n",
              "    </tr>\n",
              "    <tr>\n",
              "      <th>4</th>\n",
              "      <td>1</td>\n",
              "      <td>18</td>\n",
              "      <td>31</td>\n",
              "      <td>32</td>\n",
              "      <td>0</td>\n",
              "      <td>0</td>\n",
              "      <td>1</td>\n",
              "    </tr>\n",
              "  </tbody>\n",
              "</table>\n",
              "</div>"
            ],
            "text/plain": [
              "   dayofweek  hour  age  numscreens  minigame  used_premium_feature  liked\n",
              "0          3     2   23          15         0                     0      0\n",
              "1          6     1   24          13         0                     0      0\n",
              "2          1    19   23           3         0                     1      1\n",
              "3          4    16   28          40         0                     0      0\n",
              "4          1    18   31          32         0                     0      1"
            ]
          },
          "metadata": {
            "tags": []
          },
          "execution_count": 14
        }
      ]
    },
    {
      "cell_type": "markdown",
      "metadata": {
        "id": "fgEat93-pdae",
        "colab_type": "text"
      },
      "source": [
        "# Visualizaing Data"
      ]
    },
    {
      "cell_type": "code",
      "metadata": {
        "id": "Mwc-ydcvpgF7",
        "colab_type": "code",
        "colab": {
          "base_uri": "https://localhost:8080/",
          "height": 294
        },
        "outputId": "f048c065-e013-409f-f6ef-f8d82a0baa41"
      },
      "source": [
        "plt.suptitle('Histograms of Numerical Columns', fontsize=20)\n",
        "for i in range(1, dataset2.shape[1] + 1):\n",
        "    plt.subplot(3, 3, i)\n",
        "    f = plt.gca()\n",
        "    f.set_title(dataset2.columns.values[i - 1])\n",
        "    vals = np.size(dataset2.iloc[:, i - 1].unique())\n",
        "    plt.hist(dataset2.iloc[:, i - 1], bins=vals, color='#3F5D7D')\n",
        "plt.tight_layout(rect=[0, 0.03, 1, 0.95])"
      ],
      "execution_count": 17,
      "outputs": [
        {
          "output_type": "display_data",
          "data": {
            "image/png": "[encoded data removed]",
            "text/plain": [
              "<Figure size 432x288 with 7 Axes>"
            ]
          },
          "metadata": {
            "tags": [],
            "needs_background": "light"
          }
        }
      ]
    },
    {
      "cell_type": "code",
      "metadata": {
        "id": "fxVAfYmEqahq",
        "colab_type": "code",
        "colab": {}
      },
      "source": [
        ""
      ],
      "execution_count": null,
      "outputs": []
    }
  ]
}